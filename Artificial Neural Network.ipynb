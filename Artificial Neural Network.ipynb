{
 "cells": [
  {
   "cell_type": "code",
   "execution_count": 1,
   "metadata": {},
   "outputs": [
    {
     "name": "stderr",
     "output_type": "stream",
     "text": [
      "Using TensorFlow backend.\n"
     ]
    }
   ],
   "source": [
    "import numpy as np\n",
    "import matplotlib.pyplot as plt\n",
    "import pandas as pd\n",
    "from sklearn.preprocessing import LabelEncoder, OneHotEncoder\n",
    "from sklearn.model_selection import train_test_split\n",
    "from sklearn.preprocessing import StandardScaler\n",
    "import keras\n",
    "from keras.models import Sequential\n",
    "from keras.layers import Dense\n",
    "from sklearn.metrics import confusion_matrix\n",
    "from matplotlib.colors import ListedColormap"
   ]
  },
  {
   "cell_type": "code",
   "execution_count": 2,
   "metadata": {},
   "outputs": [],
   "source": [
    "dataset = pd.read_csv('data/Churn_Modelling.csv')\n",
    "X = dataset.iloc[:, 3:13].values\n",
    "y = dataset.iloc[:, 13].values"
   ]
  },
  {
   "cell_type": "code",
   "execution_count": 3,
   "metadata": {},
   "outputs": [
    {
     "name": "stderr",
     "output_type": "stream",
     "text": [
      "C:\\ProgramData\\Anaconda3\\lib\\site-packages\\sklearn\\preprocessing\\_encoders.py:415: FutureWarning: The handling of integer data will change in version 0.22. Currently, the categories are determined based on the range [0, max(values)], while in the future they will be determined based on the unique values.\n",
      "If you want the future behaviour and silence this warning, you can specify \"categories='auto'\".\n",
      "In case you used a LabelEncoder before this OneHotEncoder to convert the categories to integers, then you can now use the OneHotEncoder directly.\n",
      "  warnings.warn(msg, FutureWarning)\n",
      "C:\\ProgramData\\Anaconda3\\lib\\site-packages\\sklearn\\preprocessing\\_encoders.py:451: DeprecationWarning: The 'categorical_features' keyword is deprecated in version 0.20 and will be removed in 0.22. You can use the ColumnTransformer instead.\n",
      "  \"use the ColumnTransformer instead.\", DeprecationWarning)\n"
     ]
    }
   ],
   "source": [
    "labelencoder_X_1 = LabelEncoder()\n",
    "X[:, 1] = labelencoder_X_1.fit_transform(X[:, 1])\n",
    "labelencoder_X_2 = LabelEncoder()\n",
    "X[:, 2] = labelencoder_X_2.fit_transform(X[:, 2])\n",
    "onehotencoder = OneHotEncoder(categorical_features = [1])\n",
    "X = onehotencoder.fit_transform(X).toarray()\n",
    "X = X[:, 1:]"
   ]
  },
  {
   "cell_type": "code",
   "execution_count": 4,
   "metadata": {},
   "outputs": [],
   "source": [
    "X_train, X_test, y_train, y_test = train_test_split(X, y, test_size = 0.2, random_state = 0)"
   ]
  },
  {
   "cell_type": "code",
   "execution_count": 5,
   "metadata": {},
   "outputs": [],
   "source": [
    "sc = StandardScaler()\n",
    "X_train = sc.fit_transform(X_train)\n",
    "X_test = sc.transform(X_test)"
   ]
  },
  {
   "cell_type": "code",
   "execution_count": 6,
   "metadata": {},
   "outputs": [
    {
     "name": "stderr",
     "output_type": "stream",
     "text": [
      "C:\\ProgramData\\Anaconda3\\lib\\site-packages\\ipykernel_launcher.py:4: UserWarning: Update your `Dense` call to the Keras 2 API: `Dense(activation=\"relu\", input_dim=11, units=6, kernel_initializer=\"uniform\")`\n",
      "  after removing the cwd from sys.path.\n",
      "C:\\ProgramData\\Anaconda3\\lib\\site-packages\\ipykernel_launcher.py:7: UserWarning: Update your `Dense` call to the Keras 2 API: `Dense(activation=\"relu\", units=6, kernel_initializer=\"uniform\")`\n",
      "  import sys\n",
      "C:\\ProgramData\\Anaconda3\\lib\\site-packages\\ipykernel_launcher.py:10: UserWarning: Update your `Dense` call to the Keras 2 API: `Dense(activation=\"sigmoid\", units=1, kernel_initializer=\"uniform\")`\n",
      "  # Remove the CWD from sys.path while we load stuff.\n",
      "C:\\ProgramData\\Anaconda3\\lib\\site-packages\\ipykernel_launcher.py:16: UserWarning: The `nb_epoch` argument in `fit` has been renamed `epochs`.\n",
      "  app.launch_new_instance()\n"
     ]
    },
    {
     "name": "stdout",
     "output_type": "stream",
     "text": [
      "Epoch 1/100\n",
      "8000/8000 [==============================] - 1s 186us/step - loss: 0.4842 - accuracy: 0.7960\n",
      "Epoch 2/100\n",
      "8000/8000 [==============================] - 1s 121us/step - loss: 0.4279 - accuracy: 0.7960\n",
      "Epoch 3/100\n",
      "8000/8000 [==============================] - 1s 119us/step - loss: 0.4214 - accuracy: 0.7995\n",
      "Epoch 4/100\n",
      "8000/8000 [==============================] - 1s 119us/step - loss: 0.4177 - accuracy: 0.8219\n",
      "Epoch 5/100\n",
      "8000/8000 [==============================] - 1s 119us/step - loss: 0.4157 - accuracy: 0.8289\n",
      "Epoch 6/100\n",
      "8000/8000 [==============================] - 1s 127us/step - loss: 0.4139 - accuracy: 0.8317\n",
      "Epoch 7/100\n",
      "8000/8000 [==============================] - 1s 121us/step - loss: 0.4128 - accuracy: 0.8321\n",
      "Epoch 8/100\n",
      "8000/8000 [==============================] - 1s 123us/step - loss: 0.4117 - accuracy: 0.8326\n",
      "Epoch 9/100\n",
      "8000/8000 [==============================] - 1s 123us/step - loss: 0.4109 - accuracy: 0.8344\n",
      "Epoch 10/100\n",
      "8000/8000 [==============================] - 1s 121us/step - loss: 0.4095 - accuracy: 0.8338\n",
      "Epoch 11/100\n",
      "8000/8000 [==============================] - 1s 121us/step - loss: 0.4087 - accuracy: 0.8340\n",
      "Epoch 12/100\n",
      "8000/8000 [==============================] - 1s 123us/step - loss: 0.4080 - accuracy: 0.8341\n",
      "Epoch 13/100\n",
      "8000/8000 [==============================] - 1s 123us/step - loss: 0.4078 - accuracy: 0.8341\n",
      "Epoch 14/100\n",
      "8000/8000 [==============================] - 1s 123us/step - loss: 0.4072 - accuracy: 0.8342\n",
      "Epoch 15/100\n",
      "8000/8000 [==============================] - 1s 135us/step - loss: 0.4062 - accuracy: 0.8339\n",
      "Epoch 16/100\n",
      "8000/8000 [==============================] - 1s 125us/step - loss: 0.4064 - accuracy: 0.8349\n",
      "Epoch 17/100\n",
      "8000/8000 [==============================] - 1s 121us/step - loss: 0.4059 - accuracy: 0.8359\n",
      "Epoch 18/100\n",
      "8000/8000 [==============================] - 1s 123us/step - loss: 0.4052 - accuracy: 0.8355\n",
      "Epoch 19/100\n",
      "8000/8000 [==============================] - 1s 129us/step - loss: 0.4044 - accuracy: 0.8357\n",
      "Epoch 20/100\n",
      "8000/8000 [==============================] - 1s 125us/step - loss: 0.4043 - accuracy: 0.8338\n",
      "Epoch 21/100\n",
      "8000/8000 [==============================] - 1s 133us/step - loss: 0.4040 - accuracy: 0.8342\n",
      "Epoch 22/100\n",
      "8000/8000 [==============================] - 1s 121us/step - loss: 0.4039 - accuracy: 0.8353\n",
      "Epoch 23/100\n",
      "8000/8000 [==============================] - 1s 123us/step - loss: 0.4036 - accuracy: 0.8347\n",
      "Epoch 24/100\n",
      "8000/8000 [==============================] - 1s 121us/step - loss: 0.4022 - accuracy: 0.8347\n",
      "Epoch 25/100\n",
      "8000/8000 [==============================] - 1s 123us/step - loss: 0.4021 - accuracy: 0.8339\n",
      "Epoch 26/100\n",
      "8000/8000 [==============================] - 1s 123us/step - loss: 0.4007 - accuracy: 0.8350\n",
      "Epoch 27/100\n",
      "8000/8000 [==============================] - 1s 125us/step - loss: 0.4009 - accuracy: 0.8354\n",
      "Epoch 28/100\n",
      "8000/8000 [==============================] - 1s 123us/step - loss: 0.3996 - accuracy: 0.8353\n",
      "Epoch 29/100\n",
      "8000/8000 [==============================] - 1s 123us/step - loss: 0.3998 - accuracy: 0.8353\n",
      "Epoch 30/100\n",
      "8000/8000 [==============================] - 1s 123us/step - loss: 0.3988 - accuracy: 0.8351\n",
      "Epoch 31/100\n",
      "8000/8000 [==============================] - 1s 127us/step - loss: 0.3986 - accuracy: 0.8357\n",
      "Epoch 32/100\n",
      "8000/8000 [==============================] - 1s 141us/step - loss: 0.3984 - accuracy: 0.8372\n",
      "Epoch 33/100\n",
      "8000/8000 [==============================] - 1s 123us/step - loss: 0.3977 - accuracy: 0.8364\n",
      "Epoch 34/100\n",
      "8000/8000 [==============================] - 1s 129us/step - loss: 0.3972 - accuracy: 0.8363\n",
      "Epoch 35/100\n",
      "8000/8000 [==============================] - 1s 133us/step - loss: 0.3971 - accuracy: 0.8361\n",
      "Epoch 36/100\n",
      "8000/8000 [==============================] - 1s 125us/step - loss: 0.3969 - accuracy: 0.8372\n",
      "Epoch 37/100\n",
      "8000/8000 [==============================] - 1s 123us/step - loss: 0.3966 - accuracy: 0.8365\n",
      "Epoch 38/100\n",
      "8000/8000 [==============================] - 1s 129us/step - loss: 0.3962 - accuracy: 0.8384\n",
      "Epoch 39/100\n",
      "8000/8000 [==============================] - 1s 125us/step - loss: 0.3962 - accuracy: 0.8360\n",
      "Epoch 40/100\n",
      "8000/8000 [==============================] - 1s 125us/step - loss: 0.3958 - accuracy: 0.8366\n",
      "Epoch 41/100\n",
      "8000/8000 [==============================] - 1s 125us/step - loss: 0.3961 - accuracy: 0.8354\n",
      "Epoch 42/100\n",
      "8000/8000 [==============================] - 1s 129us/step - loss: 0.3953 - accuracy: 0.8380\n",
      "Epoch 43/100\n",
      "8000/8000 [==============================] - 1s 137us/step - loss: 0.3959 - accuracy: 0.8366\n",
      "Epoch 44/100\n",
      "8000/8000 [==============================] - 1s 125us/step - loss: 0.3951 - accuracy: 0.8380\n",
      "Epoch 45/100\n",
      "8000/8000 [==============================] - 1s 127us/step - loss: 0.3947 - accuracy: 0.8375\n",
      "Epoch 46/100\n",
      "8000/8000 [==============================] - 1s 125us/step - loss: 0.3950 - accuracy: 0.8369\n",
      "Epoch 47/100\n",
      "8000/8000 [==============================] - 1s 119us/step - loss: 0.3952 - accuracy: 0.8364\n",
      "Epoch 48/100\n",
      "8000/8000 [==============================] - 1s 121us/step - loss: 0.3947 - accuracy: 0.8382\n",
      "Epoch 49/100\n",
      "8000/8000 [==============================] - 1s 121us/step - loss: 0.3948 - accuracy: 0.8357\n",
      "Epoch 50/100\n",
      "8000/8000 [==============================] - 1s 146us/step - loss: 0.3944 - accuracy: 0.8370\n",
      "Epoch 51/100\n",
      "8000/8000 [==============================] - 1s 145us/step - loss: 0.3939 - accuracy: 0.8371\n",
      "Epoch 52/100\n",
      "8000/8000 [==============================] - 1s 139us/step - loss: 0.3939 - accuracy: 0.8375\n",
      "Epoch 53/100\n",
      "8000/8000 [==============================] - 1s 137us/step - loss: 0.3944 - accuracy: 0.8371\n",
      "Epoch 54/100\n",
      "8000/8000 [==============================] - 1s 137us/step - loss: 0.3942 - accuracy: 0.8367\n",
      "Epoch 55/100\n",
      "8000/8000 [==============================] - 1s 135us/step - loss: 0.3941 - accuracy: 0.8365\n",
      "Epoch 56/100\n",
      "8000/8000 [==============================] - 1s 133us/step - loss: 0.3943 - accuracy: 0.8379\n",
      "Epoch 57/100\n",
      "8000/8000 [==============================] - 1s 133us/step - loss: 0.3935 - accuracy: 0.8380\n",
      "Epoch 58/100\n",
      "8000/8000 [==============================] - 1s 135us/step - loss: 0.3941 - accuracy: 0.8361\n",
      "Epoch 59/100\n",
      "8000/8000 [==============================] - 1s 139us/step - loss: 0.3940 - accuracy: 0.8350\n",
      "Epoch 60/100\n",
      "8000/8000 [==============================] - 1s 145us/step - loss: 0.3935 - accuracy: 0.8353\n",
      "Epoch 61/100\n",
      "8000/8000 [==============================] - 1s 141us/step - loss: 0.3932 - accuracy: 0.8385\n",
      "Epoch 62/100\n",
      "8000/8000 [==============================] - 1s 143us/step - loss: 0.3934 - accuracy: 0.8376\n",
      "Epoch 63/100\n",
      "8000/8000 [==============================] - 1s 141us/step - loss: 0.3938 - accuracy: 0.8366\n",
      "Epoch 64/100\n",
      "8000/8000 [==============================] - 1s 143us/step - loss: 0.3931 - accuracy: 0.8376\n",
      "Epoch 65/100\n",
      "8000/8000 [==============================] - 1s 148us/step - loss: 0.3933 - accuracy: 0.8371\n",
      "Epoch 66/100\n",
      "8000/8000 [==============================] - 1s 139us/step - loss: 0.3931 - accuracy: 0.8394\n",
      "Epoch 67/100\n",
      "8000/8000 [==============================] - 1s 123us/step - loss: 0.3934 - accuracy: 0.8354\n",
      "Epoch 68/100\n",
      "8000/8000 [==============================] - 1s 145us/step - loss: 0.3937 - accuracy: 0.8384\n",
      "Epoch 69/100\n",
      "8000/8000 [==============================] - 1s 141us/step - loss: 0.3932 - accuracy: 0.8380\n",
      "Epoch 70/100\n",
      "8000/8000 [==============================] - 1s 146us/step - loss: 0.3934 - accuracy: 0.8364\n",
      "Epoch 71/100\n",
      "8000/8000 [==============================] - 1s 146us/step - loss: 0.3926 - accuracy: 0.8372\n",
      "Epoch 72/100\n",
      "8000/8000 [==============================] - 1s 133us/step - loss: 0.3935 - accuracy: 0.8366\n",
      "Epoch 73/100\n",
      "8000/8000 [==============================] - 1s 148us/step - loss: 0.3927 - accuracy: 0.8365\n",
      "Epoch 74/100\n",
      "8000/8000 [==============================] - 1s 152us/step - loss: 0.3928 - accuracy: 0.8366\n",
      "Epoch 75/100\n",
      "8000/8000 [==============================] - 1s 146us/step - loss: 0.3933 - accuracy: 0.8372\n",
      "Epoch 76/100\n",
      "8000/8000 [==============================] - 1s 146us/step - loss: 0.3928 - accuracy: 0.8389\n",
      "Epoch 77/100\n",
      "8000/8000 [==============================] - 1s 133us/step - loss: 0.3932 - accuracy: 0.8380\n",
      "Epoch 78/100\n"
     ]
    },
    {
     "name": "stdout",
     "output_type": "stream",
     "text": [
      "8000/8000 [==============================] - 1s 123us/step - loss: 0.3933 - accuracy: 0.8371\n",
      "Epoch 79/100\n",
      "8000/8000 [==============================] - 1s 117us/step - loss: 0.3928 - accuracy: 0.8372\n",
      "Epoch 80/100\n",
      "8000/8000 [==============================] - 1s 119us/step - loss: 0.3934 - accuracy: 0.8375\n",
      "Epoch 81/100\n",
      "8000/8000 [==============================] - 1s 117us/step - loss: 0.3937 - accuracy: 0.8390\n",
      "Epoch 82/100\n",
      "8000/8000 [==============================] - 1s 121us/step - loss: 0.3926 - accuracy: 0.8360\n",
      "Epoch 83/100\n",
      "8000/8000 [==============================] - 1s 121us/step - loss: 0.3926 - accuracy: 0.8360\n",
      "Epoch 84/100\n",
      "8000/8000 [==============================] - 1s 123us/step - loss: 0.3930 - accuracy: 0.8378\n",
      "Epoch 85/100\n",
      "8000/8000 [==============================] - 1s 121us/step - loss: 0.3931 - accuracy: 0.8365\n",
      "Epoch 86/100\n",
      "8000/8000 [==============================] - 1s 123us/step - loss: 0.3930 - accuracy: 0.8367\n",
      "Epoch 87/100\n",
      "8000/8000 [==============================] - 1s 127us/step - loss: 0.3928 - accuracy: 0.8354\n",
      "Epoch 88/100\n",
      "8000/8000 [==============================] - 1s 121us/step - loss: 0.3928 - accuracy: 0.8380\n",
      "Epoch 89/100\n",
      "8000/8000 [==============================] - 1s 121us/step - loss: 0.3929 - accuracy: 0.8388\n",
      "Epoch 90/100\n",
      "8000/8000 [==============================] - 1s 123us/step - loss: 0.3929 - accuracy: 0.8370\n",
      "Epoch 91/100\n",
      "8000/8000 [==============================] - 1s 127us/step - loss: 0.3929 - accuracy: 0.8378\n",
      "Epoch 92/100\n",
      "8000/8000 [==============================] - 1s 125us/step - loss: 0.3930 - accuracy: 0.8371\n",
      "Epoch 93/100\n",
      "8000/8000 [==============================] - 1s 121us/step - loss: 0.3930 - accuracy: 0.8380\n",
      "Epoch 94/100\n",
      "8000/8000 [==============================] - 1s 121us/step - loss: 0.3924 - accuracy: 0.8364\n",
      "Epoch 95/100\n",
      "8000/8000 [==============================] - 1s 123us/step - loss: 0.3933 - accuracy: 0.8375\n",
      "Epoch 96/100\n",
      "8000/8000 [==============================] - 1s 123us/step - loss: 0.3926 - accuracy: 0.8378\n",
      "Epoch 97/100\n",
      "8000/8000 [==============================] - 1s 121us/step - loss: 0.3933 - accuracy: 0.8378\n",
      "Epoch 98/100\n",
      "8000/8000 [==============================] - 1s 129us/step - loss: 0.3929 - accuracy: 0.8378\n",
      "Epoch 99/100\n",
      "8000/8000 [==============================] - 1s 123us/step - loss: 0.3926 - accuracy: 0.8382\n",
      "Epoch 100/100\n",
      "8000/8000 [==============================] - 1s 123us/step - loss: 0.3926 - accuracy: 0.8393\n"
     ]
    },
    {
     "data": {
      "text/plain": [
       "<keras.callbacks.callbacks.History at 0x72b6085f08>"
      ]
     },
     "execution_count": 6,
     "metadata": {},
     "output_type": "execute_result"
    }
   ],
   "source": [
    "classifier = Sequential()\n",
    "\n",
    "# Adding the input layer and the first hidden layer\n",
    "classifier.add(Dense(output_dim = 6, init = 'uniform', activation = 'relu', input_dim = 11))\n",
    "\n",
    "# Adding the second hidden layer\n",
    "classifier.add(Dense(output_dim = 6, init = 'uniform', activation = 'relu'))\n",
    "\n",
    "# Adding the output layer\n",
    "classifier.add(Dense(output_dim = 1, init = 'uniform', activation = 'sigmoid'))\n",
    "\n",
    "# Compiling the ANN\n",
    "classifier.compile(optimizer = 'adam', loss = 'binary_crossentropy', metrics = ['accuracy'])\n",
    "\n",
    "# Fitting the ANN to the Training set\n",
    "classifier.fit(X_train, y_train, batch_size = 10, nb_epoch = 100)"
   ]
  },
  {
   "cell_type": "code",
   "execution_count": 7,
   "metadata": {},
   "outputs": [],
   "source": [
    "y_pred = classifier.predict(X_test)\n",
    "y_pred = (y_pred > 0.5)"
   ]
  },
  {
   "cell_type": "code",
   "execution_count": 8,
   "metadata": {},
   "outputs": [
    {
     "name": "stdout",
     "output_type": "stream",
     "text": [
      "[[1543   52]\n",
      " [ 257  148]]\n"
     ]
    }
   ],
   "source": [
    "print(confusion_matrix(y_test, y_pred))"
   ]
  },
  {
   "cell_type": "code",
   "execution_count": null,
   "metadata": {},
   "outputs": [],
   "source": []
  }
 ],
 "metadata": {
  "kernelspec": {
   "display_name": "Python 3",
   "language": "python",
   "name": "python3"
  },
  "language_info": {
   "codemirror_mode": {
    "name": "ipython",
    "version": 3
   },
   "file_extension": ".py",
   "mimetype": "text/x-python",
   "name": "python",
   "nbconvert_exporter": "python",
   "pygments_lexer": "ipython3",
   "version": "3.7.4"
  }
 },
 "nbformat": 4,
 "nbformat_minor": 2
}
