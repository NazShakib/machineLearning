{
 "cells": [
  {
   "cell_type": "code",
   "execution_count": 1,
   "metadata": {},
   "outputs": [
    {
     "name": "stderr",
     "output_type": "stream",
     "text": [
      "Using TensorFlow backend.\n"
     ]
    }
   ],
   "source": [
    "from keras.models import Sequential\n",
    "from keras.layers import Convolution2D\n",
    "from keras.layers import MaxPooling2D\n",
    "from keras.layers import Flatten\n",
    "from keras.layers import Dense\n",
    "from keras.preprocessing.image import ImageDataGenerator"
   ]
  },
  {
   "cell_type": "code",
   "execution_count": 2,
   "metadata": {},
   "outputs": [
    {
     "name": "stderr",
     "output_type": "stream",
     "text": [
      "C:\\ProgramData\\Anaconda3\\lib\\site-packages\\ipykernel_launcher.py:5: UserWarning: Update your `Conv2D` call to the Keras 2 API: `Conv2D(32, (3, 3), input_shape=(64, 64, 3..., activation=\"relu\")`\n",
      "  \"\"\"\n",
      "C:\\ProgramData\\Anaconda3\\lib\\site-packages\\ipykernel_launcher.py:11: UserWarning: Update your `Conv2D` call to the Keras 2 API: `Conv2D(32, (3, 3), activation=\"relu\")`\n",
      "  # This is added back by InteractiveShellApp.init_path()\n",
      "C:\\ProgramData\\Anaconda3\\lib\\site-packages\\ipykernel_launcher.py:18: UserWarning: Update your `Dense` call to the Keras 2 API: `Dense(activation=\"relu\", units=128)`\n",
      "C:\\ProgramData\\Anaconda3\\lib\\site-packages\\ipykernel_launcher.py:19: UserWarning: Update your `Dense` call to the Keras 2 API: `Dense(activation=\"sigmoid\", units=1)`\n"
     ]
    }
   ],
   "source": [
    "# Initialising the CNN\n",
    "classifier = Sequential()\n",
    "\n",
    "# Step 1 - Convolution\n",
    "classifier.add(Convolution2D(32, 3, 3, input_shape = (64, 64, 3), activation = 'relu'))\n",
    "\n",
    "# Step 2 - Pooling\n",
    "classifier.add(MaxPooling2D(pool_size = (2, 2)))\n",
    "\n",
    "# Adding a second convolutional layer\n",
    "classifier.add(Convolution2D(32, 3, 3, activation = 'relu'))\n",
    "classifier.add(MaxPooling2D(pool_size = (2, 2)))\n",
    "\n",
    "# Step 3 - Flattening\n",
    "classifier.add(Flatten())\n",
    "\n",
    "# Step 4 - Full connection\n",
    "classifier.add(Dense(output_dim = 128, activation = 'relu'))\n",
    "classifier.add(Dense(output_dim = 1, activation = 'sigmoid'))\n",
    "\n",
    "# Compiling the CNN\n",
    "classifier.compile(optimizer = 'adam', loss = 'binary_crossentropy', metrics = ['accuracy'])"
   ]
  },
  {
   "cell_type": "code",
   "execution_count": 5,
   "metadata": {},
   "outputs": [
    {
     "name": "stdout",
     "output_type": "stream",
     "text": [
      "Found 8000 images belonging to 2 classes.\n",
      "Found 2000 images belonging to 2 classes.\n"
     ]
    },
    {
     "name": "stderr",
     "output_type": "stream",
     "text": [
      "C:\\ProgramData\\Anaconda3\\lib\\site-packages\\ipykernel_launcher.py:22: UserWarning: The semantics of the Keras 2 argument `steps_per_epoch` is not the same as the Keras 1 argument `samples_per_epoch`. `steps_per_epoch` is the number of batches to draw from the generator at each epoch. Basically steps_per_epoch = samples_per_epoch/batch_size. Similarly `nb_val_samples`->`validation_steps` and `val_samples`->`steps` arguments have changed. Update your method calls accordingly.\n",
      "C:\\ProgramData\\Anaconda3\\lib\\site-packages\\ipykernel_launcher.py:22: UserWarning: Update your `fit_generator` call to the Keras 2 API: `fit_generator(<keras.pre..., validation_data=<keras.pre..., steps_per_epoch=250, epochs=25, validation_steps=2000)`\n"
     ]
    },
    {
     "name": "stdout",
     "output_type": "stream",
     "text": [
      "Epoch 1/25\n",
      "250/250 [==============================] - 497s 2s/step - loss: 0.6627 - accuracy: 0.5889 - val_loss: 0.5353 - val_accuracy: 0.7065\n",
      "Epoch 2/25\n",
      "250/250 [==============================] - 283s 1s/step - loss: 0.5892 - accuracy: 0.6836 - val_loss: 0.5376 - val_accuracy: 0.6996\n",
      "Epoch 3/25\n",
      "250/250 [==============================] - 282s 1s/step - loss: 0.5524 - accuracy: 0.7196 - val_loss: 0.7208 - val_accuracy: 0.7428\n",
      "Epoch 4/25\n",
      "250/250 [==============================] - 281s 1s/step - loss: 0.5167 - accuracy: 0.7440 - val_loss: 0.4046 - val_accuracy: 0.7430\n",
      "Epoch 5/25\n",
      "250/250 [==============================] - 284s 1s/step - loss: 0.4987 - accuracy: 0.7561 - val_loss: 0.4914 - val_accuracy: 0.7664\n",
      "Epoch 6/25\n",
      "250/250 [==============================] - 281s 1s/step - loss: 0.4811 - accuracy: 0.7610 - val_loss: 0.4949 - val_accuracy: 0.7910\n",
      "Epoch 7/25\n",
      "250/250 [==============================] - 282s 1s/step - loss: 0.4612 - accuracy: 0.7815 - val_loss: 0.6280 - val_accuracy: 0.7695\n",
      "Epoch 8/25\n",
      "250/250 [==============================] - 284s 1s/step - loss: 0.4503 - accuracy: 0.7856 - val_loss: 0.4287 - val_accuracy: 0.7780\n",
      "Epoch 9/25\n",
      "250/250 [==============================] - 284s 1s/step - loss: 0.4282 - accuracy: 0.8021 - val_loss: 0.4386 - val_accuracy: 0.7958\n",
      "Epoch 10/25\n",
      "250/250 [==============================] - 282s 1s/step - loss: 0.4254 - accuracy: 0.7993 - val_loss: 0.2963 - val_accuracy: 0.7808\n",
      "Epoch 11/25\n",
      "250/250 [==============================] - 283s 1s/step - loss: 0.4124 - accuracy: 0.8134 - val_loss: 0.3697 - val_accuracy: 0.7957\n",
      "Epoch 12/25\n",
      "250/250 [==============================] - 282s 1s/step - loss: 0.3971 - accuracy: 0.8221 - val_loss: 0.8044 - val_accuracy: 0.7755\n",
      "Epoch 13/25\n",
      "250/250 [==============================] - 283s 1s/step - loss: 0.3909 - accuracy: 0.8225 - val_loss: 0.3041 - val_accuracy: 0.8015\n",
      "Epoch 14/25\n",
      "250/250 [==============================] - 283s 1s/step - loss: 0.3769 - accuracy: 0.8282 - val_loss: 0.5631 - val_accuracy: 0.7796\n",
      "Epoch 15/25\n",
      "250/250 [==============================] - 281s 1s/step - loss: 0.3678 - accuracy: 0.8314 - val_loss: 0.5673 - val_accuracy: 0.7853\n",
      "Epoch 16/25\n",
      "250/250 [==============================] - 283s 1s/step - loss: 0.3561 - accuracy: 0.8401 - val_loss: 0.5726 - val_accuracy: 0.7981\n",
      "Epoch 17/25\n",
      "250/250 [==============================] - 280s 1s/step - loss: 0.3475 - accuracy: 0.8460 - val_loss: 0.3113 - val_accuracy: 0.8050\n",
      "Epoch 18/25\n",
      "250/250 [==============================] - 304s 1s/step - loss: 0.3399 - accuracy: 0.8494 - val_loss: 0.3478 - val_accuracy: 0.7970\n",
      "Epoch 19/25\n",
      "250/250 [==============================] - 281s 1s/step - loss: 0.3148 - accuracy: 0.8646 - val_loss: 0.5130 - val_accuracy: 0.8089\n",
      "Epoch 20/25\n",
      "250/250 [==============================] - 279s 1s/step - loss: 0.3120 - accuracy: 0.8645 - val_loss: 0.3683 - val_accuracy: 0.7909\n",
      "Epoch 21/25\n",
      "250/250 [==============================] - 284s 1s/step - loss: 0.3014 - accuracy: 0.8709 - val_loss: 0.6622 - val_accuracy: 0.8100\n",
      "Epoch 22/25\n",
      "250/250 [==============================] - 284s 1s/step - loss: 0.3064 - accuracy: 0.8683 - val_loss: 0.3760 - val_accuracy: 0.7955\n",
      "Epoch 23/25\n",
      "250/250 [==============================] - 281s 1s/step - loss: 0.2781 - accuracy: 0.8824 - val_loss: 0.3049 - val_accuracy: 0.7931\n",
      "Epoch 24/25\n",
      "250/250 [==============================] - 281s 1s/step - loss: 0.2694 - accuracy: 0.8875 - val_loss: 0.6212 - val_accuracy: 0.7990\n",
      "Epoch 25/25\n",
      "250/250 [==============================] - 296s 1s/step - loss: 0.2612 - accuracy: 0.8882 - val_loss: 0.4552 - val_accuracy: 0.8196\n"
     ]
    },
    {
     "data": {
      "text/plain": [
       "<keras.callbacks.callbacks.History at 0xc3de981148>"
      ]
     },
     "execution_count": 5,
     "metadata": {},
     "output_type": "execute_result"
    }
   ],
   "source": [
    "train_datagen = ImageDataGenerator(rescale = 1./255,\n",
    "                                   shear_range = 0.2,\n",
    "                                   zoom_range = 0.2,\n",
    "                                   horizontal_flip = True)\n",
    "\n",
    "test_datagen = ImageDataGenerator(rescale = 1./255)\n",
    "\n",
    "training_set = train_datagen.flow_from_directory('data/cnn/training_set',\n",
    "                                                 target_size = (64, 64),\n",
    "                                                 batch_size = 32,\n",
    "                                                 class_mode = 'binary')\n",
    "\n",
    "test_set = test_datagen.flow_from_directory('data/cnn/test_set',\n",
    "                                            target_size = (64, 64),\n",
    "                                            batch_size = 32,\n",
    "                                            class_mode = 'binary')\n",
    "\n",
    "classifier.fit_generator(training_set,\n",
    "                         samples_per_epoch = 8000,\n",
    "                         nb_epoch = 25,\n",
    "                         validation_data = test_set,\n",
    "                         nb_val_samples = 2000)"
   ]
  },
  {
   "cell_type": "code",
   "execution_count": null,
   "metadata": {},
   "outputs": [],
   "source": []
  }
 ],
 "metadata": {
  "kernelspec": {
   "display_name": "Python 3",
   "language": "python",
   "name": "python3"
  },
  "language_info": {
   "codemirror_mode": {
    "name": "ipython",
    "version": 3
   },
   "file_extension": ".py",
   "mimetype": "text/x-python",
   "name": "python",
   "nbconvert_exporter": "python",
   "pygments_lexer": "ipython3",
   "version": "3.7.4"
  }
 },
 "nbformat": 4,
 "nbformat_minor": 2
}
